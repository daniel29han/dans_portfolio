{
 "cells": [
  {
   "cell_type": "markdown",
   "id": "3ff69bf0",
   "metadata": {},
   "source": [
    "# 5. Capstone Project : Customized Recommendation System with Yelp Dataset\n",
    "## Preliminary Prediction Model (Script in Progress)"
   ]
  },
  {
   "cell_type": "markdown",
   "id": "cbdc4427",
   "metadata": {},
   "source": [
    "**Prepared by:** Daniel Han<br>\n",
    "**Prepared for:** Brainstation"
   ]
  },
  {
   "cell_type": "markdown",
   "id": "79d25aa3",
   "metadata": {},
   "source": [
    "### 5.4 Preliminary Prediction Model"
   ]
  },
  {
   "cell_type": "markdown",
   "id": "0f0fb157",
   "metadata": {},
   "source": [
    "### 5.4.2 Train-Test Split"
   ]
  },
  {
   "cell_type": "markdown",
   "id": "b360e57b",
   "metadata": {},
   "source": [
    "The final dataframe is split into train and test sets."
   ]
  },
  {
   "cell_type": "code",
   "execution_count": 129,
   "id": "df192dd8",
   "metadata": {},
   "outputs": [],
   "source": [
    "# Define Independent and Dependent variables\n",
    "X = df_final.iloc[:,:-1] # independent variables\n",
    "y = df_final.iloc[:, -1] # dependent (target) variable"
   ]
  },
  {
   "cell_type": "code",
   "execution_count": 131,
   "id": "db82399a",
   "metadata": {},
   "outputs": [],
   "source": [
    "# Import library for train-test splitting\n",
    "from sklearn.model_selection import train_test_split"
   ]
  },
  {
   "cell_type": "code",
   "execution_count": null,
   "id": "b4f7aac9",
   "metadata": {},
   "outputs": [],
   "source": [
    "# splitting the dataset into 75% train and 25% test\n",
    "X_train, X_test, y_train, y_test = train_test_split(X, y, test_size=0.25)"
   ]
  },
  {
   "cell_type": "code",
   "execution_count": null,
   "id": "1d2d3cb5",
   "metadata": {},
   "outputs": [],
   "source": [
    "### 5.4 Preliminary Prediction Model\n",
    "\n",
    "### 5.4.2 Train-Test Split\n",
    "\n",
    "The final dataframe is split into train and test sets.\n",
    "\n",
    "# Define Independent and Dependent variables\n",
    "X = df_final.iloc[:,:-1] # independent variables\n",
    "y = df_final.iloc[:, -1] # dependent (target) variable\n",
    "\n",
    "# Import library for train-test splitting\n",
    "from sklearn.model_selection import train_test_split\n",
    "\n",
    "# splitting the dataset into 75% train and 25% test\n",
    "X_train, X_test, y_train, y_test = train_test_split(X, y, test_size=0.25)"
   ]
  }
 ],
 "metadata": {
  "kernelspec": {
   "display_name": "yelp",
   "language": "python",
   "name": "yelp"
  },
  "language_info": {
   "codemirror_mode": {
    "name": "ipython",
    "version": 3
   },
   "file_extension": ".py",
   "mimetype": "text/x-python",
   "name": "python",
   "nbconvert_exporter": "python",
   "pygments_lexer": "ipython3",
   "version": "3.10.5"
  }
 },
 "nbformat": 4,
 "nbformat_minor": 5
}
